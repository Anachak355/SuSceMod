{
 "cells": [
  {
   "cell_type": "markdown",
   "id": "c4aa84ab-8829-435e-aa67-1a9e116e4438",
   "metadata": {},
   "source": [
    "# This is an example notebook to show how our code can be used for senario modelling"
   ]
  },
  {
   "cell_type": "markdown",
   "id": "415b7ef1-9c7c-4e63-bdb9-c0cce794b263",
   "metadata": {},
   "source": [
    "Let us look at how to model two scenarios:\n",
    "\n",
    "1. Business-As-Usual - A linear trend of the demand from historical data is used to simulate the future land use changes.\n",
    "2. Growth-As-Usual - A constant demand, calculated from the last data available, is continued further into the future"
   ]
  },
  {
   "cell_type": "markdown",
   "id": "7e16a475-c28f-404e-b2cb-d71fce5b0cb7",
   "metadata": {},
   "source": [
    "## Imports"
   ]
  },
  {
   "cell_type": "markdown",
   "id": "6a609c1f-a17b-4a97-9954-fe3e5517d9c1",
   "metadata": {},
   "source": [
    "We first import the required modules"
   ]
  },
  {
   "cell_type": "code",
   "execution_count": 1,
   "id": "9d353481-738c-491f-90b1-b9a9afb5fce2",
   "metadata": {},
   "outputs": [
    {
     "ename": "ModuleNotFoundError",
     "evalue": "No module named 'SuSceMod'",
     "output_type": "error",
     "traceback": [
      "\u001b[1;31m---------------------------------------------------------------------------\u001b[0m",
      "\u001b[1;31mModuleNotFoundError\u001b[0m                       Traceback (most recent call last)",
      "Cell \u001b[1;32mIn[1], line 2\u001b[0m\n\u001b[0;32m      1\u001b[0m \u001b[38;5;28;01mimport\u001b[39;00m \u001b[38;5;21;01mos\u001b[39;00m\n\u001b[1;32m----> 2\u001b[0m \u001b[38;5;28;01mfrom\u001b[39;00m \u001b[38;5;21;01mSuSceMod\u001b[39;00m\u001b[38;5;21;01m.\u001b[39;00m\u001b[38;5;21;01msimulation\u001b[39;00m \u001b[38;5;28;01mimport\u001b[39;00m logger, data_utils, input_handling, scenarios\n",
      "\u001b[1;31mModuleNotFoundError\u001b[0m: No module named 'SuSceMod'"
     ]
    }
   ],
   "source": [
    "import os\n",
    "from SuSceMod.simulation import logger, data_utils, input_handling, scenarios"
   ]
  },
  {
   "cell_type": "markdown",
   "id": "e54b07f9-12cd-4a3f-b52e-5917b66c4edd",
   "metadata": {},
   "source": [
    "## Setup of the simulation"
   ]
  },
  {
   "cell_type": "markdown",
   "id": "8e7c3b2f-024f-4322-a607-ea8d2202adf4",
   "metadata": {},
   "source": []
  },
  {
   "cell_type": "code",
   "execution_count": null,
   "id": "513c66d5-a801-4103-989a-8a485add9c26",
   "metadata": {},
   "outputs": [],
   "source": []
  },
  {
   "cell_type": "code",
   "execution_count": null,
   "id": "1a44fbff-1dc0-423c-bea5-8e46c45bd173",
   "metadata": {},
   "outputs": [],
   "source": [
    "initial_year = 2025\n",
    "final_year = 2050"
   ]
  },
  {
   "cell_type": "code",
   "execution_count": null,
   "id": "664db164-b5f9-424f-99a3-993ded67e991",
   "metadata": {},
   "outputs": [],
   "source": [
    "prob_years = [2016, 2025]\n",
    "change_years = [2016, 2025]"
   ]
  },
  {
   "cell_type": "code",
   "execution_count": null,
   "id": "84f93f0b-3329-4adb-b4e6-93f771494aa6",
   "metadata": {},
   "outputs": [],
   "source": [
    "output_folder = './output/'\n",
    "log_file_path = output_folder + f'/BAU_simulation.log'"
   ]
  },
  {
   "cell_type": "code",
   "execution_count": null,
   "id": "8cbfa939-1c8e-415c-adf9-000fe230905e",
   "metadata": {},
   "outputs": [],
   "source": [
    "logger.setup_logger(log_file_path, log_time=False)"
   ]
  },
  {
   "cell_type": "code",
   "execution_count": null,
   "id": "f1b7dbda-9cf6-4c4b-9326-8e9f2628228a",
   "metadata": {},
   "outputs": [],
   "source": [
    "initial_built_up_map = data_utils.load_raster_data(f'./input_rasters/______{initial_year}.tif') "
   ]
  },
  {
   "cell_type": "code",
   "execution_count": null,
   "id": "7c819edb-7540-4544-9299-188edca7f0ac",
   "metadata": {},
   "outputs": [],
   "source": [
    "suitability_maps_path = f\"./suitability_maps/{str(prob_years[0])[-2:]}_{str(prob_years[1])[-2:]}\"\n",
    "prob_maps_dict, prob_map_paths = input_handling.load_prob_maps(suitability_maps_path, prob_years)"
   ]
  },
  {
   "cell_type": "code",
   "execution_count": null,
   "id": "c56595ac-1636-45d1-984f-11fd631b4461",
   "metadata": {},
   "outputs": [],
   "source": [
    "initial_map_for_change_path = f'change_maps/______{change_years[0]}.tif'\n",
    "final_map_for_change_path   = f'change_maps/______{change_years[1]}.tif'\n",
    "\n",
    "change_maps_dict, classes = input_handling.calculate_change_maps(\n",
    "    initial_map_for_change_path, final_map_for_change_path\n",
    ")"
   ]
  },
  {
   "cell_type": "code",
   "execution_count": null,
   "id": "f180d59c-5082-4f83-88b4-e3eb00834c87",
   "metadata": {},
   "outputs": [],
   "source": [
    "annual_rates, period_counts, crosstab_df = input_handling.calculate_change_rates(\n",
    "    change_maps_dict, change_years\n",
    ")"
   ]
  },
  {
   "cell_type": "code",
   "execution_count": null,
   "id": "0a34658b-3f78-4dca-a3e1-9efd6a76b68d",
   "metadata": {},
   "outputs": [],
   "source": [
    "simulated_maps, output_paths, class_counts = scenarios.simulate_growth_BAU(\n",
    "    initial_year,\n",
    "    final_year,\n",
    "    initial_built_up_map, \n",
    "    prob_maps_dict,\n",
    "    change_years,\n",
    "    annual_rates,\n",
    "    output_folder,\n",
    "    parent_folder\n",
    ")"
   ]
  },
  {
   "cell_type": "code",
   "execution_count": null,
   "id": "59ffd048-476f-40b0-b6ed-769f33d75d2d",
   "metadata": {},
   "outputs": [],
   "source": [
    "counts_csv_file = os.path.join(output_folder, f\"class_counts_{initial_year}_{final_year}.csv\")\n",
    "utils.save_counts_to_csv(class_counts, counts_csv_file)"
   ]
  },
  {
   "cell_type": "code",
   "execution_count": null,
   "id": "a74f90d6-4205-4230-8ad8-3acbcffed54d",
   "metadata": {},
   "outputs": [],
   "source": [
    "template_raster_path = f'./input_rasters/_______.tif'"
   ]
  },
  {
   "cell_type": "code",
   "execution_count": null,
   "id": "34551527-af9e-4288-b507-5321d98a5f06",
   "metadata": {},
   "outputs": [],
   "source": [
    "for year in simulated_maps.keys():\n",
    "    utils.writeraster(template_raster_path, output_paths[year], simulated_maps[year])"
   ]
  }
 ],
 "metadata": {
  "kernelspec": {
   "display_name": "Python 3 (ipykernel)",
   "language": "python",
   "name": "python3"
  },
  "language_info": {
   "codemirror_mode": {
    "name": "ipython",
    "version": 3
   },
   "file_extension": ".py",
   "mimetype": "text/x-python",
   "name": "python",
   "nbconvert_exporter": "python",
   "pygments_lexer": "ipython3",
   "version": "3.12.5"
  }
 },
 "nbformat": 4,
 "nbformat_minor": 5
}
