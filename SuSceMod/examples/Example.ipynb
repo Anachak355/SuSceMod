{
 "cells": [
  {
   "cell_type": "markdown",
   "id": "c4aa84ab-8829-435e-aa67-1a9e116e4438",
   "metadata": {},
   "source": [
    "# This is an example notebook to show how our code can be used for senario modelling"
   ]
  },
  {
   "cell_type": "markdown",
   "id": "415b7ef1-9c7c-4e63-bdb9-c0cce794b263",
   "metadata": {},
   "source": [
    "Let us look at how to model two scenarios:\n",
    "\n",
    "1. Business-As-Usual - A linear trend of the demand from historical data is used to simulate the future land use changes.\n",
    "2. Growth-As-Usual - A constant demand, calculated from the last data available, is continued further into the future"
   ]
  },
  {
   "cell_type": "code",
   "execution_count": null,
   "id": "1edcbcd7-8376-44de-85a9-c620f2bfc169",
   "metadata": {},
   "outputs": [],
   "source": []
  }
 ],
 "metadata": {
  "kernelspec": {
   "display_name": "Python 3 (ipykernel)",
   "language": "python",
   "name": "python3"
  },
  "language_info": {
   "codemirror_mode": {
    "name": "ipython",
    "version": 3
   },
   "file_extension": ".py",
   "mimetype": "text/x-python",
   "name": "python",
   "nbconvert_exporter": "python",
   "pygments_lexer": "ipython3",
   "version": "3.12.5"
  }
 },
 "nbformat": 4,
 "nbformat_minor": 5
}
